{
 "cells": [
  {
   "cell_type": "code",
   "execution_count": 128,
   "metadata": {},
   "outputs": [
    {
     "name": "stdout",
     "output_type": "stream",
     "text": [
      "short-paragraph-3.txt 158 characters 28 words 5 lines\n"
     ]
    }
   ],
   "source": [
    "#!/usr/bin/env python3\n",
    "# Juliette Gudknecht\n",
    "# 2020-02-10\n",
    "# character, word, and line counting program\n",
    "# the names are messy, I was testing to make sure it was working and I don't really understand when the\n",
    "# variables would change, if that makes sense...\n",
    "#did I do part 3 right? nothing changed??\n",
    "\n",
    "#read() method\n",
    "h = open('/Users/juliettegudknecht/Downloads/short-paragraph-3.txt','rt')\n",
    "data = h.read()\n",
    "filename = 'short-paragraph-3.txt'\n",
    "\n",
    "#character count\n",
    "char = len(data)\n",
    "\n",
    "#word count\n",
    "word = data.split()\n",
    "words = len(word)\n",
    "\n",
    "#lines count\n",
    "lines = len(data.split('\\n')) - 1\n",
    "\n",
    "print(filename,char,'characters',words,'words',lines,'lines')\n",
    "h.close()"
   ]
  },
  {
   "cell_type": "code",
   "execution_count": 123,
   "metadata": {},
   "outputs": [
    {
     "name": "stdout",
     "output_type": "stream",
     "text": [
      "short-paragraph-3.txt 158 characters 28 words 5 lines\n"
     ]
    }
   ],
   "source": [
    "#readlines() method\n",
    "h = open('/Users/juliettegudknecht/Downloads/short-paragraph-3.txt','rt')\n",
    "data = h.readlines()\n",
    "filename = 'short-paragraph-3.txt'\n",
    "\n",
    "#word count\n",
    "w = []\n",
    "for line in data:\n",
    "    for word in line.split():\n",
    "        w.append(word) \n",
    "\n",
    "words2 = len(w)\n",
    "\n",
    "#lines count\n",
    "line2 = 0\n",
    "for line in data:\n",
    "    line2 += 1\n",
    "\n",
    "line2 = []\n",
    "for l in data:\n",
    "    line2.append(l)\n",
    "lines2= len(line2)\n",
    "\n",
    "#char count\n",
    "len1 = 0\n",
    "for l in line2:\n",
    "    len1 += len(l)\n",
    "\n",
    "    \n",
    "print(filename,len1,'characters',words2,'words',lines2,'lines')\n",
    "h.close()"
   ]
  },
  {
   "cell_type": "code",
   "execution_count": 126,
   "metadata": {},
   "outputs": [
    {
     "name": "stdout",
     "output_type": "stream",
     "text": [
      "short-paragraph-3.txt 158 characters 28 words 5 lines\n"
     ]
    }
   ],
   "source": [
    "#readline() method\n",
    "\n",
    "h = open('/Users/juliettegudknecht/Downloads/short-paragraph-3.txt','rt')\n",
    "data3 = h.readlines()\n",
    "filename = 'short-paragraph-3.txt'\n",
    "\n",
    "#words count\n",
    "words = []\n",
    "for line in data3:\n",
    "    for word in line.split():\n",
    "        words.append(word) \n",
    "\n",
    "words3 = len(w)\n",
    "\n",
    "#lines count\n",
    "line3 = 0\n",
    "for line in data3:\n",
    "    line3 += 1\n",
    "\n",
    "line3 = []\n",
    "for l in data3:\n",
    "    line3.append(l)\n",
    "lines3= len(line3)\n",
    "\n",
    "#character count\n",
    "len3 = 0\n",
    "for l in line3:\n",
    "    len3 += len(l)\n",
    "\n",
    "    \n",
    "print(filename,len3,'characters',words3,'words',lines3,'lines')\n",
    "h.close()"
   ]
  },
  {
   "cell_type": "code",
   "execution_count": null,
   "metadata": {},
   "outputs": [],
   "source": []
  }
 ],
 "metadata": {
  "kernelspec": {
   "display_name": "Python 3",
   "language": "python",
   "name": "python3"
  },
  "language_info": {
   "codemirror_mode": {
    "name": "ipython",
    "version": 3
   },
   "file_extension": ".py",
   "mimetype": "text/x-python",
   "name": "python",
   "nbconvert_exporter": "python",
   "pygments_lexer": "ipython3",
   "version": "3.7.4"
  }
 },
 "nbformat": 4,
 "nbformat_minor": 2
}
